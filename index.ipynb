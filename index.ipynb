{
 "cells": [
  {
   "cell_type": "markdown",
   "metadata": {},
   "source": [
    "# Introduction to Cross-Validation - Lab\n",
    "\n",
    "## Introduction\n",
    "\n",
    "In this lab, you'll be able to practice your cross-validation skills!\n",
    "\n",
    "\n",
    "## Objectives\n",
    "\n",
    "You will be able to:\n",
    "\n",
    "- Perform cross validation on a model to determine optimal model performance\n",
    "- Compare training and testing errors to determine if model is over or underfitting"
   ]
  },
  {
   "cell_type": "markdown",
   "metadata": {},
   "source": [
    "## Let's get started\n",
    "\n",
    "This time, let's only include the variables that were previously selected using recursive feature elimination. We included the code to pre-process below."
   ]
  },
  {
   "cell_type": "code",
   "execution_count": 1,
   "metadata": {},
   "outputs": [],
   "source": [
    "import pandas as pd\n",
    "import numpy as np\n",
    "import matplotlib.pyplot as plt\n",
    "%matplotlib inline\n",
    "from sklearn.datasets import load_boston\n",
    "\n",
    "boston = load_boston()\n",
    "\n",
    "boston_features = pd.DataFrame(boston.data, columns = boston.feature_names)\n",
    "b = boston_features['B']\n",
    "logdis = np.log(boston_features['DIS'])\n",
    "loglstat = np.log(boston_features['LSTAT'])\n",
    "\n",
    "# Min-Max scaling\n",
    "boston_features['B'] = (b-min(b))/(max(b)-min(b))\n",
    "boston_features['DIS'] = (logdis-min(logdis))/(max(logdis)-min(logdis))\n",
    "\n",
    "# Standardization\n",
    "boston_features['LSTAT'] = (loglstat-np.mean(loglstat))/np.sqrt(np.var(loglstat))"
   ]
  },
  {
   "cell_type": "code",
   "execution_count": 2,
   "metadata": {},
   "outputs": [
    {
     "data": {
      "text/plain": [
       "pandas.core.frame.DataFrame"
      ]
     },
     "execution_count": 2,
     "metadata": {},
     "output_type": "execute_result"
    }
   ],
   "source": [
    "X = boston_features[['CHAS', 'RM', 'DIS', 'B', 'LSTAT']]\n",
    "y = pd.DataFrame(boston.target, columns = ['target'])\n",
    "type(X)"
   ]
  },
  {
   "cell_type": "markdown",
   "metadata": {},
   "source": [
    "### Train-test split\n",
    "\n",
    "Perform a train-test split with a test set of 20%."
   ]
  },
  {
   "cell_type": "code",
   "execution_count": 4,
   "metadata": {},
   "outputs": [],
   "source": [
    "# Import train_test_split from sklearn.model_selection\n",
    "from sklearn.linear_model import LinearRegression  # linear regression\n",
    "from sklearn.model_selection import train_test_split\n",
    "from sklearn.metrics import mean_squared_error"
   ]
  },
  {
   "cell_type": "code",
   "execution_count": 5,
   "metadata": {},
   "outputs": [],
   "source": [
    "# Split the data into training and test sets (assign 20% to test set)\n",
    "X_train,X_test,y_train,y_test = train_test_split(X,y,test_size=.2)"
   ]
  },
  {
   "cell_type": "code",
   "execution_count": 6,
   "metadata": {},
   "outputs": [
    {
     "name": "stdout",
     "output_type": "stream",
     "text": [
      "404 102 404 102\n"
     ]
    }
   ],
   "source": [
    "# A brief preview of train-test split\n",
    "print(len(X_train), len(X_test), len(y_train), len(y_test))"
   ]
  },
  {
   "cell_type": "markdown",
   "metadata": {},
   "source": [
    "### Fit the model"
   ]
  },
  {
   "cell_type": "markdown",
   "metadata": {},
   "source": [
    "Fit a linear regression model and apply the model to make predictions on test set"
   ]
  },
  {
   "cell_type": "code",
   "execution_count": 7,
   "metadata": {},
   "outputs": [],
   "source": [
    "linreg=LinearRegression()\n",
    "model = linreg.fit(X_train,y_train)"
   ]
  },
  {
   "cell_type": "markdown",
   "metadata": {},
   "source": [
    "### Residuals and MSE"
   ]
  },
  {
   "cell_type": "markdown",
   "metadata": {},
   "source": [
    "Calculate the residuals and the mean squared error on the test set"
   ]
  },
  {
   "cell_type": "code",
   "execution_count": 8,
   "metadata": {},
   "outputs": [],
   "source": [
    "y_hat_train = model.predict(X_train)\n",
    "y_hat_test = model.predict(X_test)\n",
    "# Calculate mean square errors\n",
    "train_mse = mean_squared_error(y_train,y_hat_train)\n",
    "test_mse = mean_squared_error(y_test,y_hat_test) "
   ]
  },
  {
   "cell_type": "code",
   "execution_count": 9,
   "metadata": {},
   "outputs": [
    {
     "data": {
      "text/plain": [
       "(21.214986954691646, 24.498483144059698)"
      ]
     },
     "execution_count": 9,
     "metadata": {},
     "output_type": "execute_result"
    }
   ],
   "source": [
    "train_mse,test_mse"
   ]
  },
  {
   "cell_type": "markdown",
   "metadata": {},
   "source": [
    "## Cross-Validation: let's build it from scratch!"
   ]
  },
  {
   "cell_type": "markdown",
   "metadata": {},
   "source": [
    "### Create a cross-validation function"
   ]
  },
  {
   "cell_type": "markdown",
   "metadata": {},
   "source": [
    "Write a function `kfolds()` that splits a dataset into k evenly sized pieces. If the full dataset is not divisible by k, make the first few folds one larger then later ones.\n",
    "\n",
    "We want the folds to be a list of subsets of data!"
   ]
  },
  {
   "cell_type": "code",
   "execution_count": 19,
   "metadata": {},
   "outputs": [],
   "source": [
    "def kfolds(data, k):\n",
    "    # Force data as pandas DataFrame\n",
    "    # add 1 to fold size to account for leftovers \n",
    "    data = pd.DataFrame(data)\n",
    "    num_observations= len(data)\n",
    "    fold_size = num_observations//k\n",
    "    leftovers = num_observations%k\n",
    "    folds = []\n",
    "    start_obs=0\n",
    "    for fold_n in range (1,k+1):\n",
    "        if fold_n <= leftovers:\n",
    "            # fold size =fold_size+1 to account for leftovers\n",
    "            fold = data.iloc[start_obs : start_obs+fold_size+1]\n",
    "            folds.append(fold)\n",
    "            start_obs += fold_size+1\n",
    "        else:\n",
    "             # fold size =fold_size (no more leftovers)\n",
    "            fold = data.iloc[start_obs : start_obs+fold_size]\n",
    "            folds.append(fold)\n",
    "            start_obs += fold_size\n",
    "            \n",
    "    return folds"
   ]
  },
  {
   "cell_type": "markdown",
   "metadata": {},
   "source": [
    "### Apply it to the Boston Housing data"
   ]
  },
  {
   "cell_type": "code",
   "execution_count": 20,
   "metadata": {},
   "outputs": [
    {
     "data": {
      "text/plain": [
       "(   CHAS     RM       DIS         B     LSTAT  target\n",
       " 7   0.0  6.172  0.700059  1.000000  0.968416    27.1\n",
       " 8   0.0  5.631  0.709276  0.974104  1.712312    16.5\n",
       " 9   0.0  6.004  0.743201  0.974305  0.779802    18.9,\n",
       "    CHAS     RM       DIS         B     LSTAT\n",
       " 7   0.0  6.172  0.700059  1.000000  0.968416\n",
       " 8   0.0  5.631  0.709276  0.974104  1.712312\n",
       " 9   0.0  6.004  0.743201  0.974305  0.779802,\n",
       "    target\n",
       " 7    27.1\n",
       " 8    16.5\n",
       " 9    18.9)"
      ]
     },
     "execution_count": 20,
     "metadata": {},
     "output_type": "execute_result"
    }
   ],
   "source": [
    "# Make sure to concatenate the data again: predictors + dependent variable\n",
    "bos_data = pd.concat([X,y],axis=1)\n",
    "bos_data[7:10],X[7:10],y[7:10],"
   ]
  },
  {
   "cell_type": "code",
   "execution_count": 29,
   "metadata": {},
   "outputs": [],
   "source": [
    "# Apply kfolds() to bos_data with 5 folds\n",
    "bos_folds= kfolds(bos_data, 5)"
   ]
  },
  {
   "cell_type": "code",
   "execution_count": 30,
   "metadata": {},
   "outputs": [
    {
     "name": "stdout",
     "output_type": "stream",
     "text": [
      "506 101 1\n"
     ]
    },
    {
     "data": {
      "text/plain": [
       "[     CHAS     RM       DIS         B     LSTAT  target\n",
       " 0     0.0  6.575  0.542096  1.000000 -1.275260    24.0\n",
       " 1     0.0  6.421  0.623954  1.000000 -0.263711    21.6\n",
       " 2     0.0  7.185  0.623954  0.989737 -1.627858    34.7\n",
       " 3     0.0  6.998  0.707895  0.994276 -2.153192    33.4\n",
       " 4     0.0  7.147  0.707895  1.000000 -1.162114    36.2\n",
       " ..    ...    ...       ...       ...       ...     ...\n",
       " 97    0.0  8.069  0.475885  1.000000 -1.555067    38.7\n",
       " 98    0.0  7.820  0.475885  0.991502 -1.829759    43.8\n",
       " 99    0.0  7.416  0.475885  1.000000 -0.912931    33.2\n",
       " 100   0.0  6.727  0.379096  0.994604 -0.213444    27.5\n",
       " 101   0.0  6.781  0.390808  0.996672 -0.555806    26.5\n",
       " \n",
       " [102 rows x 6 columns],      CHAS     RM       DIS         B     LSTAT  target\n",
       " 102   0.0  6.405  0.369415  0.177720 -0.012136    18.6\n",
       " 103   0.0  6.137  0.369415  0.993873  0.378596    19.3\n",
       " 104   0.0  6.167  0.321174  0.989384  0.235000    20.1\n",
       " 105   0.0  5.851  0.262627  0.992814  0.717270    19.5\n",
       " 106   0.0  5.836  0.282946  0.996898  0.925237    19.5\n",
       " ..    ...    ...       ...       ...       ...     ...\n",
       " 198   0.0  7.274  0.786695  0.988149 -0.801053    34.6\n",
       " 199   0.0  6.975  0.806093  1.000000 -1.422033    34.9\n",
       " 200   0.0  7.135  0.806093  0.968228 -1.462710    32.9\n",
       " 201   0.0  6.162  0.722095  0.992108 -0.608764    24.1\n",
       " 202   0.0  7.610  0.722095  0.996167 -2.059550    42.3\n",
       " \n",
       " [101 rows x 6 columns],      CHAS     RM       DIS         B     LSTAT  target\n",
       " 203   0.0  7.853  0.636563  0.989611 -1.721374    48.5\n",
       " 204   0.0  8.034  0.636563  0.983988 -2.187541    50.0\n",
       " 205   0.0  5.891  0.526931  1.000000  0.025057    22.6\n",
       " 206   0.0  6.326  0.568536  0.994881  0.040312    24.4\n",
       " 207   0.0  5.783  0.568536  0.981164  0.870793    22.5\n",
       " ..    ...    ...       ...       ...       ...     ...\n",
       " 299   0.0  7.041  0.815586  0.936154 -1.357541    29.0\n",
       " 300   0.0  6.871  0.815586  0.984770 -0.945542    24.8\n",
       " 301   0.0  6.590  0.666254  0.997100 -0.199357    22.0\n",
       " 302   0.0  6.495  0.666254  0.966488 -0.351653    26.4\n",
       " 303   0.0  6.982  0.666254  0.983686 -1.315893    33.1\n",
       " \n",
       " [101 rows x 6 columns],      CHAS     RM       DIS         B     LSTAT  target\n",
       " 304   0.0  7.236  0.535033  0.991881 -0.724816    36.1\n",
       " 305   0.0  6.616  0.460516  0.991074 -0.302431    28.4\n",
       " 306   0.0  7.420  0.425223  1.000000 -0.839233    33.4\n",
       " 307   0.0  6.849  0.436424  1.000000 -0.586493    28.2\n",
       " 308   0.0  6.635  0.453901  1.000000 -1.429355    22.8\n",
       " ..    ...    ...       ...       ...       ...     ...\n",
       " 400   0.0  5.987  0.143717  1.000000  1.526438     5.6\n",
       " 401   0.0  6.343  0.139800  1.000000  1.067205     7.2\n",
       " 402   0.0  6.404  0.156822  0.947577  1.066385    12.1\n",
       " 403   0.0  5.349  0.172911  1.000000  1.021495     8.3\n",
       " 404   0.0  5.531  0.148620  0.829946  1.563971     8.5\n",
       " \n",
       " [101 rows x 6 columns],      CHAS     RM       DIS         B     LSTAT  target\n",
       " 405   0.0  5.683  0.097993  0.969918  1.272135     5.0\n",
       " 406   0.0  4.138  0.017712  0.932725  1.298029    11.9\n",
       " 407   0.0  5.608  0.054371  0.836578  0.207758    27.9\n",
       " 408   0.0  5.617  0.106565  0.792577  1.503253    17.2\n",
       " 409   0.0  6.852  0.109682  0.451460  1.022337    27.5\n",
       " ..    ...    ...       ...       ...       ...     ...\n",
       " 501   0.0  6.593  0.331081  0.987619 -0.169811    22.4\n",
       " 502   0.0  6.120  0.297277  1.000000 -0.274682    20.6\n",
       " 503   0.0  6.976  0.274575  1.000000 -1.067939    23.9\n",
       " 504   0.0  6.794  0.315551  0.991301 -0.836660    22.0\n",
       " 505   0.0  6.030  0.335545  1.000000 -0.510809    11.9\n",
       " \n",
       " [101 rows x 6 columns]]"
      ]
     },
     "execution_count": 30,
     "metadata": {},
     "output_type": "execute_result"
    }
   ],
   "source": [
    "print(len(bos_data),len(bos_data)//5,len(bos_data)%5)\n",
    "bos_folds"
   ]
  },
  {
   "cell_type": "markdown",
   "metadata": {},
   "source": [
    "### Perform a linear regression for each fold and calculate the training and test error"
   ]
  },
  {
   "cell_type": "markdown",
   "metadata": {},
   "source": [
    "Perform linear regression on each and calculate the training and test error: "
   ]
  },
  {
   "cell_type": "code",
   "execution_count": 31,
   "metadata": {},
   "outputs": [
    {
     "data": {
      "text/plain": [
       "(list, pandas.core.frame.DataFrame)"
      ]
     },
     "execution_count": 31,
     "metadata": {},
     "output_type": "execute_result"
    }
   ],
   "source": [
    "type(bos_folds),type(bos_folds[0]),"
   ]
  },
  {
   "cell_type": "code",
   "execution_count": 33,
   "metadata": {},
   "outputs": [
    {
     "data": {
      "text/plain": [
       "[(0,      CHAS     RM       DIS         B     LSTAT  target\n",
       "  0     0.0  6.575  0.542096  1.000000 -1.275260    24.0\n",
       "  1     0.0  6.421  0.623954  1.000000 -0.263711    21.6\n",
       "  2     0.0  7.185  0.623954  0.989737 -1.627858    34.7\n",
       "  3     0.0  6.998  0.707895  0.994276 -2.153192    33.4\n",
       "  4     0.0  7.147  0.707895  1.000000 -1.162114    36.2\n",
       "  ..    ...    ...       ...       ...       ...     ...\n",
       "  97    0.0  8.069  0.475885  1.000000 -1.555067    38.7\n",
       "  98    0.0  7.820  0.475885  0.991502 -1.829759    43.8\n",
       "  99    0.0  7.416  0.475885  1.000000 -0.912931    33.2\n",
       "  100   0.0  6.727  0.379096  0.994604 -0.213444    27.5\n",
       "  101   0.0  6.781  0.390808  0.996672 -0.555806    26.5\n",
       "  \n",
       "  [102 rows x 6 columns]),\n",
       " (1,      CHAS     RM       DIS         B     LSTAT  target\n",
       "  102   0.0  6.405  0.369415  0.177720 -0.012136    18.6\n",
       "  103   0.0  6.137  0.369415  0.993873  0.378596    19.3\n",
       "  104   0.0  6.167  0.321174  0.989384  0.235000    20.1\n",
       "  105   0.0  5.851  0.262627  0.992814  0.717270    19.5\n",
       "  106   0.0  5.836  0.282946  0.996898  0.925237    19.5\n",
       "  ..    ...    ...       ...       ...       ...     ...\n",
       "  198   0.0  7.274  0.786695  0.988149 -0.801053    34.6\n",
       "  199   0.0  6.975  0.806093  1.000000 -1.422033    34.9\n",
       "  200   0.0  7.135  0.806093  0.968228 -1.462710    32.9\n",
       "  201   0.0  6.162  0.722095  0.992108 -0.608764    24.1\n",
       "  202   0.0  7.610  0.722095  0.996167 -2.059550    42.3\n",
       "  \n",
       "  [101 rows x 6 columns]),\n",
       " (2,      CHAS     RM       DIS         B     LSTAT  target\n",
       "  203   0.0  7.853  0.636563  0.989611 -1.721374    48.5\n",
       "  204   0.0  8.034  0.636563  0.983988 -2.187541    50.0\n",
       "  205   0.0  5.891  0.526931  1.000000  0.025057    22.6\n",
       "  206   0.0  6.326  0.568536  0.994881  0.040312    24.4\n",
       "  207   0.0  5.783  0.568536  0.981164  0.870793    22.5\n",
       "  ..    ...    ...       ...       ...       ...     ...\n",
       "  299   0.0  7.041  0.815586  0.936154 -1.357541    29.0\n",
       "  300   0.0  6.871  0.815586  0.984770 -0.945542    24.8\n",
       "  301   0.0  6.590  0.666254  0.997100 -0.199357    22.0\n",
       "  302   0.0  6.495  0.666254  0.966488 -0.351653    26.4\n",
       "  303   0.0  6.982  0.666254  0.983686 -1.315893    33.1\n",
       "  \n",
       "  [101 rows x 6 columns]),\n",
       " (3,      CHAS     RM       DIS         B     LSTAT  target\n",
       "  304   0.0  7.236  0.535033  0.991881 -0.724816    36.1\n",
       "  305   0.0  6.616  0.460516  0.991074 -0.302431    28.4\n",
       "  306   0.0  7.420  0.425223  1.000000 -0.839233    33.4\n",
       "  307   0.0  6.849  0.436424  1.000000 -0.586493    28.2\n",
       "  308   0.0  6.635  0.453901  1.000000 -1.429355    22.8\n",
       "  ..    ...    ...       ...       ...       ...     ...\n",
       "  400   0.0  5.987  0.143717  1.000000  1.526438     5.6\n",
       "  401   0.0  6.343  0.139800  1.000000  1.067205     7.2\n",
       "  402   0.0  6.404  0.156822  0.947577  1.066385    12.1\n",
       "  403   0.0  5.349  0.172911  1.000000  1.021495     8.3\n",
       "  404   0.0  5.531  0.148620  0.829946  1.563971     8.5\n",
       "  \n",
       "  [101 rows x 6 columns]),\n",
       " (4,      CHAS     RM       DIS         B     LSTAT  target\n",
       "  405   0.0  5.683  0.097993  0.969918  1.272135     5.0\n",
       "  406   0.0  4.138  0.017712  0.932725  1.298029    11.9\n",
       "  407   0.0  5.608  0.054371  0.836578  0.207758    27.9\n",
       "  408   0.0  5.617  0.106565  0.792577  1.503253    17.2\n",
       "  409   0.0  6.852  0.109682  0.451460  1.022337    27.5\n",
       "  ..    ...    ...       ...       ...       ...     ...\n",
       "  501   0.0  6.593  0.331081  0.987619 -0.169811    22.4\n",
       "  502   0.0  6.120  0.297277  1.000000 -0.274682    20.6\n",
       "  503   0.0  6.976  0.274575  1.000000 -1.067939    23.9\n",
       "  504   0.0  6.794  0.315551  0.991301 -0.836660    22.0\n",
       "  505   0.0  6.030  0.335545  1.000000 -0.510809    11.9\n",
       "  \n",
       "  [101 rows x 6 columns])]"
      ]
     },
     "execution_count": 33,
     "metadata": {},
     "output_type": "execute_result"
    }
   ],
   "source": [
    "list(enumerate(bos_folds))"
   ]
  },
  {
   "cell_type": "code",
   "execution_count": 36,
   "metadata": {},
   "outputs": [
    {
     "name": "stdout",
     "output_type": "stream",
     "text": [
      "[24.195577370388623, 23.032087348477972, 19.74507285797898, 15.31710138425119, 22.32997280754659]\n",
      "[13.405144922008185, 17.44401680068205, 37.03271139002071, 58.27954384784228, 26.097988757148393]\n"
     ]
    }
   ],
   "source": [
    "test_errs = []\n",
    "train_errs = []\n",
    "k=5\n",
    "\n",
    "for n in range(k):\n",
    "    # Split in train and test for the fold\n",
    "    # train = all folds but the fold number n\n",
    "    train = pd.concat([fold for i,fold in enumerate(bos_folds) if i!= n])\n",
    "    test = bos_folds[n]\n",
    "    # Fit a linear regression model\n",
    "    model = linreg.fit(train[X.columns],train[y.columns])\n",
    "    # Evaluate Train and Test errors\n",
    "    # Calculate predictions on training and test sets\n",
    "    y_hat_train = model.predict(train[X.columns])\n",
    "    y_hat_test = model.predict(test[X.columns])\n",
    "    # Calculate mean square errors\n",
    "    train_errs.append (mean_squared_error(train[y.columns],y_hat_train))\n",
    "    test_errs.append (mean_squared_error(test[y.columns],y_hat_test)) \n",
    "    \n",
    "print(train_errs)\n",
    "print(test_errs)"
   ]
  },
  {
   "cell_type": "markdown",
   "metadata": {},
   "source": [
    "## Cross-Validation using Scikit-Learn"
   ]
  },
  {
   "cell_type": "markdown",
   "metadata": {},
   "source": [
    "This was a bit of work! Now, let's perform 5-fold cross-validation to get the mean squared error through scikit-learn. Let's have a look at the five individual MSEs and explain what's going on."
   ]
  },
  {
   "cell_type": "code",
   "execution_count": 37,
   "metadata": {},
   "outputs": [],
   "source": [
    "from sklearn.model_selection import cross_val_score\n",
    "cv_5_results = cross_val_score(linreg, X, y, cv=5, scoring='neg_mean_squared_error')\n"
   ]
  },
  {
   "cell_type": "markdown",
   "metadata": {},
   "source": [
    "Next, calculate the mean of the MSE over the 5 cross-validation and compare and contrast with the result from the train-test split case."
   ]
  },
  {
   "cell_type": "code",
   "execution_count": 38,
   "metadata": {},
   "outputs": [
    {
     "data": {
      "text/plain": [
       "array([-13.40514492, -17.4440168 , -37.03271139, -58.27954385,\n",
       "       -26.09798876])"
      ]
     },
     "execution_count": 38,
     "metadata": {},
     "output_type": "execute_result"
    }
   ],
   "source": [
    "cv_5_results"
   ]
  },
  {
   "cell_type": "markdown",
   "metadata": {},
   "source": [
    "##  Summary "
   ]
  },
  {
   "cell_type": "markdown",
   "metadata": {},
   "source": [
    "Congratulations! You are now familiar with cross-validation and know how to use `cross_val_score()`. Remember that the results obtained from cross-validation are robust and always use it whenever possible! "
   ]
  }
 ],
 "metadata": {
  "kernelspec": {
   "display_name": "Python 3",
   "language": "python",
   "name": "python3"
  },
  "language_info": {
   "codemirror_mode": {
    "name": "ipython",
    "version": 3
   },
   "file_extension": ".py",
   "mimetype": "text/x-python",
   "name": "python",
   "nbconvert_exporter": "python",
   "pygments_lexer": "ipython3",
   "version": "3.6.9"
  }
 },
 "nbformat": 4,
 "nbformat_minor": 2
}
